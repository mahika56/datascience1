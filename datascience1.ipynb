{
 "cells": [
  {
   "cell_type": "markdown",
   "id": "cf5ff2a6-fe9b-4cc9-8da5-1a7bec9a172a",
   "metadata": {},
   "source": [
    "# Data science peer graded assignment:\n"
   ]
  },
  {
   "cell_type": "markdown",
   "id": "84ba3aad-187a-4cbc-9b43-810fd16c78cf",
   "metadata": {},
   "source": [
    "# Introduction : \n",
    "This is an assignment for the data science course by IBM"
   ]
  },
  {
   "cell_type": "markdown",
   "id": "79e6b018-800e-49b6-a543-eae2fa30fd3d",
   "metadata": {},
   "source": [
    "# List of Data Science languages:\n",
    "1. Python\n",
    "2. SQL\n",
    "3. JavaScript\n",
    "4. TensorFlow\n",
    "5. R\n",
    "6. Julia\n",
    "7. Java"
   ]
  },
  {
   "cell_type": "markdown",
   "id": "0a13903e-b0ae-42bd-97a4-033572fd9e00",
   "metadata": {},
   "source": [
    "# List of Data Science Libraries:\n",
    " 1. Matplotlib\n",
    " 2. Pandas\n",
    " 3. NumPy\n",
    " 4. SciPy\n",
    " 5. TensorFlow\n",
    " 6. Seaborn"
   ]
  },
  {
   "cell_type": "markdown",
   "id": "dc7e6a88-541e-4630-a4c4-cebcf581f639",
   "metadata": {},
   "source": [
    "# Data Science Tools\n",
    "\n",
    "| Name of tool      |\n",
    "|------------------|\n",
    "| Jupyter Notebook |\n",
    "| RStudio           |\n",
    "| VSCode            |\n",
    "| Google Colab      |\n",
    "| JupyterLab        |\n",
    "| Apache Zeppelin   |\n"
   ]
  },
  {
   "cell_type": "markdown",
   "id": "17b29ca9-27b5-4071-87cf-8be2e97aa06a",
   "metadata": {},
   "source": [
    "# Introducing arithmetic expression\n"
   ]
  },
  {
   "cell_type": "code",
   "execution_count": 1,
   "id": "1fd88659-3ed7-4520-88d6-ddd6668b9a9e",
   "metadata": {},
   "outputs": [
    {
     "data": {
      "text/plain": [
       "11"
      ]
     },
     "execution_count": 1,
     "metadata": {},
     "output_type": "execute_result"
    }
   ],
   "source": [
    "#multiplying and adding numbers\n",
    "(3*2)+5"
   ]
  },
  {
   "cell_type": "code",
   "execution_count": 2,
   "id": "1d8190fa-6077-458d-9b07-2a12bd36fb83",
   "metadata": {},
   "outputs": [
    {
     "data": {
      "text/plain": [
       "3.3333333333333335"
      ]
     },
     "execution_count": 2,
     "metadata": {},
     "output_type": "execute_result"
    }
   ],
   "source": [
    "#convert minutes to hours\n",
    "minutes=200\n",
    "hours=200/60\n",
    "hours"
   ]
  },
  {
   "cell_type": "markdown",
   "id": "a5cf4ae0-baf0-4c27-b8b1-0fdb32518d02",
   "metadata": {},
   "source": [
    "# List of objectives:\n",
    "1. Extract actionable insights from large datasets to inform decision-making and drive business strategies.\n",
    "2. Develop predictive models using statistical and machine learning techniques to forecast trends and behaviors.\n",
    "3. Automate data-driven processes to improve efficiency and enable real-time analysis in various applications."
   ]
  },
  {
   "cell_type": "markdown",
   "id": "26efa6e9-a989-47f3-b875-bb062ec646a8",
   "metadata": {},
   "source": [
    "# Name of author\n",
    "Mahika Jojee"
   ]
  },
  {
   "cell_type": "code",
   "execution_count": null,
   "id": "68860237-0e55-4ff4-91c5-876c1ba14c0c",
   "metadata": {},
   "outputs": [],
   "source": []
  }
 ],
 "metadata": {
  "kernelspec": {
   "display_name": "Python 3 (ipykernel)",
   "language": "python",
   "name": "python3"
  },
  "language_info": {
   "codemirror_mode": {
    "name": "ipython",
    "version": 3
   },
   "file_extension": ".py",
   "mimetype": "text/x-python",
   "name": "python",
   "nbconvert_exporter": "python",
   "pygments_lexer": "ipython3",
   "version": "3.13.0"
  }
 },
 "nbformat": 4,
 "nbformat_minor": 5
}
